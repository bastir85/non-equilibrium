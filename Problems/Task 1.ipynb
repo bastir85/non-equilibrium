{
 "cells": [
  {
   "cell_type": "markdown",
   "metadata": {},
   "source": [
    "# Modelling Non-equilibrium, Brownian Particles Using Python\n"
   ]
  },
  {
   "cell_type": "code",
   "execution_count": null,
   "metadata": {},
   "outputs": [],
   "source": [
    "import numpy as np\n",
    "import matplotlib.pylab as plt\n",
    "plt.style.use('seaborn-notebook')\n",
    "%config InlineBackend.figure_format = 'retina'"
   ]
  },
  {
   "cell_type": "markdown",
   "metadata": {},
   "source": [
    "## Task 1: Unbiased Random Walkers\n",
    "\n",
    "In this Task, you will learn how to simulate random walkers with no bias (i.e., they have the same probability of going forwards or backwards).\n"
   ]
  },
  {
   "cell_type": "markdown",
   "metadata": {},
   "source": [
    "### 1D Single Random Walker"
   ]
  },
  {
   "cell_type": "markdown",
   "metadata": {},
   "source": [
    "Task: Implement an unbiased 1D random walk with equal probability. \n",
    "\n",
    "Hint: Use the `numpy` module (which is imported as `np`) to generate a 1D numpy array with the displacements and generate the positions as the cumulative sums.  \n",
    "Bonus: Visualize the trajectory using `plt.plot`\n"
   ]
  },
  {
   "cell_type": "code",
   "execution_count": null,
   "metadata": {},
   "outputs": [],
   "source": [
    "# Use np.choice and np.cumsum"
   ]
  },
  {
   "cell_type": "code",
   "execution_count": null,
   "metadata": {},
   "outputs": [],
   "source": [
    "#Plot here\n",
    "plt.xlabel(\"t\")\n",
    "plt.ylabel(\"steps\")"
   ]
  },
  {
   "cell_type": "markdown",
   "metadata": {},
   "source": [
    "### 1D Ensemble of Walkers\n",
    "\n",
    "Generate 10'000 walkers and register only their endpoints. Use this information to calculate the diffusion coefficient.\n",
    "Hint: Remeber that $\\left<x^2\\right> = 2fDt$  \n",
    "Bonus: Plot the histogram of the final positions"
   ]
  },
  {
   "cell_type": "code",
   "execution_count": null,
   "metadata": {},
   "outputs": [],
   "source": []
  },
  {
   "cell_type": "markdown",
   "metadata": {},
   "source": [
    "### 2D Random Walkers\n",
    "\n",
    "Adapt the previous subtask to a bidimensional case. See what happens when you have 1, 10, 1'000. 10'000 random walkers."
   ]
  },
  {
   "cell_type": "code",
   "execution_count": null,
   "metadata": {},
   "outputs": [],
   "source": []
  }
 ],
 "metadata": {
  "kernelspec": {
   "display_name": "Python 3",
   "language": "python",
   "name": "python3"
  },
  "language_info": {
   "codemirror_mode": {
    "name": "ipython",
    "version": 3
   },
   "file_extension": ".py",
   "mimetype": "text/x-python",
   "name": "python",
   "nbconvert_exporter": "python",
   "pygments_lexer": "ipython3",
   "version": "3.6.5"
  }
 },
 "nbformat": 4,
 "nbformat_minor": 2
}
