{
 "cells": [
  {
   "cell_type": "markdown",
   "metadata": {},
   "source": [
    "# Modelling Non-equilibrium, Brownian Particles Using Python\n"
   ]
  },
  {
   "cell_type": "code",
   "execution_count": null,
   "metadata": {},
   "outputs": [],
   "source": [
    "import numpy as np\n",
    "import matplotlib.pylab as plt\n",
    "plt.style.use('seaborn-notebook')\n",
    "%config InlineBackend.figure_format = 'retina'"
   ]
  },
  {
   "cell_type": "markdown",
   "metadata": {},
   "source": [
    "## Task 1: Unbiased Random Walkers\n",
    "\n",
    "In this Task, you will learn how to simulate random walkers with no bias (i.e., they have the same probability of going forwards or backwards).\n"
   ]
  },
  {
   "cell_type": "markdown",
   "metadata": {},
   "source": [
    "### 1D Single Random Walker"
   ]
  },
  {
   "cell_type": "markdown",
   "metadata": {},
   "source": [
    "Task: Implement an unbiased 1D random walk with equal probability. \n",
    "\n",
    "Hint: Use the `numpy` module (which is imported as `np`) to generate a 1D numpy array with the displacements and generate the positions as the cumulative sums.  \n",
    "Bonus: Visualize the trajectory using `plt.plot`\n"
   ]
  },
  {
   "cell_type": "code",
   "execution_count": null,
   "metadata": {},
   "outputs": [],
   "source": [
    "n_steps = 10000"
   ]
  },
  {
   "cell_type": "code",
   "execution_count": null,
   "metadata": {},
   "outputs": [],
   "source": [
    "steps_1d = np.random.uniform(-1, 1, n_steps)\n",
    "random_1d = np.cumsum(steps_1d,axis=0)"
   ]
  },
  {
   "cell_type": "code",
   "execution_count": null,
   "metadata": {},
   "outputs": [],
   "source": [
    "plt.plot(random_1d)\n",
    "plt.xlabel(\"t\")\n",
    "plt.ylabel(\"steps\")"
   ]
  },
  {
   "cell_type": "markdown",
   "metadata": {},
   "source": [
    "### 1D Ensemble of Walkers\n",
    "\n",
    "Generate 10'000 walkers and register only their endpoints. Use this information to calculate the diffusion coefficient.\n",
    "Hint: Remeber that $\\left<x^2\\right> = 2fDt$  \n",
    "Bonus: Plot the histogram of the final positions"
   ]
  },
  {
   "cell_type": "code",
   "execution_count": null,
   "metadata": {},
   "outputs": [],
   "source": [
    "n_walkers = 10000"
   ]
  },
  {
   "cell_type": "code",
   "execution_count": null,
   "metadata": {},
   "outputs": [],
   "source": [
    "steps_ensemble = np.random.choice([-1, 1], (n_walkers, n_steps), [0.5, 0.5])"
   ]
  },
  {
   "cell_type": "code",
   "execution_count": null,
   "metadata": {},
   "outputs": [],
   "source": [
    "final_ensemble = np.sum(steps_ensemble, axis=1)\n",
    "print(final_ensemble.shape)"
   ]
  },
  {
   "cell_type": "code",
   "execution_count": null,
   "metadata": {},
   "outputs": [],
   "source": [
    "x_squared = final_ensemble*final_ensemble\n",
    "D = np.average(x_squared)/(2*n_steps)\n",
    "print(\"Diffusion coefficient D = {}\".format(D))"
   ]
  },
  {
   "cell_type": "code",
   "execution_count": null,
   "metadata": {},
   "outputs": [],
   "source": [
    "_ = plt.hist(final_ensemble, 50)"
   ]
  },
  {
   "cell_type": "markdown",
   "metadata": {},
   "source": [
    "### 2D Random Walkers\n",
    "\n",
    "Adapt the previous subtask to a bidimensional case. See what happens when you have 1, 10, 1'000. 10'000 random walkers."
   ]
  },
  {
   "cell_type": "code",
   "execution_count": null,
   "metadata": {},
   "outputs": [],
   "source": [
    "n_walkers = 10000\n",
    "steps_ensemble_2 = np.random.choice([-1, 1], (n_walkers, 2, n_steps), p=[0.5, 0.5])"
   ]
  },
  {
   "cell_type": "code",
   "execution_count": null,
   "metadata": {},
   "outputs": [],
   "source": [
    "final_ensemble_2 = np.sum(steps_ensemble_2, axis=2)"
   ]
  },
  {
   "cell_type": "code",
   "execution_count": null,
   "metadata": {},
   "outputs": [],
   "source": [
    "r_squared = np.sum(final_ensemble_2**2, axis=1)\n",
    "D = np.average(r_squared)/(4*n_steps)\n",
    "print(\"Diffusion coefficient D = {}\".format(D))"
   ]
  },
  {
   "cell_type": "code",
   "execution_count": null,
   "metadata": {},
   "outputs": [],
   "source": [
    "_ = plt.hist2d(final_ensemble_2[:, 0], final_ensemble_2[:, 1], 60)"
   ]
  },
  {
   "cell_type": "code",
   "execution_count": null,
   "metadata": {},
   "outputs": [],
   "source": []
  }
 ],
 "metadata": {
  "kernelspec": {
   "display_name": "Python 3",
   "language": "python",
   "name": "python3"
  },
  "language_info": {
   "codemirror_mode": {
    "name": "ipython",
    "version": 3
   },
   "file_extension": ".py",
   "mimetype": "text/x-python",
   "name": "python",
   "nbconvert_exporter": "python",
   "pygments_lexer": "ipython3",
   "version": "3.6.5"
  }
 },
 "nbformat": 4,
 "nbformat_minor": 2
}
