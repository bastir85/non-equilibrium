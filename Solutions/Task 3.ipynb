{
 "cells": [
  {
   "cell_type": "markdown",
   "metadata": {},
   "source": [
    "# Modelling Non-equilibrium, Brownian Particles Using Python\n"
   ]
  },
  {
   "cell_type": "code",
   "execution_count": null,
   "metadata": {},
   "outputs": [],
   "source": [
    "import numpy as np\n",
    "import matplotlib as mpl\n",
    "import matplotlib.pylab as plt\n",
    "import ipywidgets as widgets\n",
    "plt.style.use('seaborn-notebook')\n",
    "# Larger plots for high dpi images\n",
    "%config InlineBackend.figure_format = 'retina'"
   ]
  },
  {
   "cell_type": "markdown",
   "metadata": {},
   "source": [
    "## Task 3 Probability Flux in State Space of Coupled Brownian Harmonic Oscillators"
   ]
  },
  {
   "cell_type": "markdown",
   "metadata": {},
   "source": [
    "Subtask 1: Implement the Brownian dynamics simulation of two harmonic oscillators which are connect by a spring:\n",
    "$$\n",
    "\\frac{dx_1}{dt} = \\frac{1}{\\zeta}\\ k~(x_2-2x_1) + \\Gamma_1 \\\\\n",
    "\\frac{dx_2}{dt} = \\frac{1}{\\zeta}\\ k~(x_1-2x_2) + \\Gamma_2\n",
    "$$\n",
    "Use the following parameters for the simulation:\n",
    "- springconstant $k=1$\n",
    "- friction coefficent $\\zeta=18.849$\n",
    "- timestep $dt=0.1$\n",
    "\n",
    "The beats should be couppled to heat bathes with two different tempratures T1 and T2. The noises $\\Gamma_1$ and $\\Gamma_2$ follow a normal distribution with zero mean and variance $\\sigma = 2k_B T_1 \\tau/\\zeta$.\n",
    "\n",
    "Hint: Calculate first the noise array. Then use a for loop to integrate the dynamamics of the beats. Save the position of each bead as a position touple in a list, e.g. data = [($x_1^0$, $x_2^0$), ($x_1^1$, $x_2^1$), ($x_1^t$, $x_2^t$ )]"
   ]
  },
  {
   "cell_type": "code",
   "execution_count": null,
   "metadata": {},
   "outputs": [],
   "source": [
    "def langevin_simulation(steps, T1, T2):\n",
    "    # fixed parameters\n",
    "    dt = 0.1\n",
    "    xi = 18.849\n",
    "    springk = 1.0\n",
    "    nstd1 = np.sqrt(2.*T1*dt/xi)\n",
    "    nstd2 = np.sqrt(2.*T2*dt/xi)\n",
    "    \n",
    "    # initialise positions of beads\n",
    "    x1, x2 = 0., 0.\n",
    "    \n",
    "    data = []\n",
    "    \n",
    "    # Get random number between 0 and 1\n",
    "    noise_T1 = np.random.normal(loc=0., scale=nstd1, size=steps)\n",
    "    noise_T2 = np.random.normal(loc=0., scale=nstd2, size=steps)\n",
    "\n",
    "    # Time loop\n",
    "    for ti in range(steps):\n",
    "        x1 += springk*(x2-2*x1)*dt/xi + noise_T1[ti]\n",
    "        x2 += springk*(x1-2*x2)*dt/xi + noise_T2[ti]\n",
    "        \n",
    "        data.append((x1, x2))\n",
    "        \n",
    "    return np.array(data)\n"
   ]
  },
  {
   "cell_type": "markdown",
   "metadata": {},
   "source": [
    "## Task 3a Analyze Results\n",
    "Task: Run the simulation for `N=10000` timesteps with different temperatures `T1` and `T2`. Look at the changes of the trajectories $x_1(t)$, $x_2(t)$ and the center of mass. How would you interpret the results?"
   ]
  },
  {
   "cell_type": "code",
   "execution_count": null,
   "metadata": {},
   "outputs": [],
   "source": [
    "N = 1000\n",
    "data = langevin_simulation(N, T1=1, T2=1.0)"
   ]
  },
  {
   "cell_type": "code",
   "execution_count": null,
   "metadata": {
    "scrolled": false
   },
   "outputs": [],
   "source": [
    "plt.plot(data.T[0], label=r\"$x_1$\")\n",
    "plt.plot(data.T[1], label=r\"$x_2$\")\n",
    "\n",
    "plt.xlabel(\"t\")\n",
    "plt.ylabel(\"x\")\n",
    "plt.legend()"
   ]
  },
  {
   "cell_type": "code",
   "execution_count": null,
   "metadata": {},
   "outputs": [],
   "source": [
    "binnum = 50\n",
    "bins = np.linspace(-4, 4, binnum + 1)\n",
    "\n",
    "hist = plt.hist(data.T[0], label=r\"$x_1$\", bins=bins, alpha=0.8)\n",
    "plt.hist(data.T[1], label=r\"$x_2$\", bins=bins, alpha=0.8)\n",
    "plt.hist((data.T[0] + data.T[1])/2.0, label=r\"cm\", bins=bins, alpha=0.8)\n",
    "plt.xlabel(\"x\")\n",
    "plt.ylabel(\"N\")\n",
    "plt.legend()"
   ]
  },
  {
   "cell_type": "markdown",
   "metadata": {},
   "source": [
    "## Bonus - Interactive Animation of the Oscialltors\n",
    "A short visualisation of the fluctuating oscillators. Play around with it to get an idea how the simulation results look like"
   ]
  },
  {
   "cell_type": "code",
   "execution_count": null,
   "metadata": {},
   "outputs": [],
   "source": [
    "import matplotlib.animation\n",
    "\n",
    "def animate(t=0):\n",
    "    fr = data[t]\n",
    "    l1.set_offsets([fr[0], 0])\n",
    "    l2.set_offsets([fr[1], 0])\n",
    "    t1.set_text(\"t={}\".format(t))\n",
    "\n",
    "\n",
    "fig, ax = plt.subplots()\n",
    "l1 = ax.scatter([],[], s=150)\n",
    "l2 = ax.scatter([],[], s=50)\n",
    "t1 = ax.text(0.04,0.02, \"t=0\")\n",
    "ax.set_xlim(-4,4)\n",
    "ani = matplotlib.animation.FuncAnimation(fig, animate, frames=100)\n",
    "\n",
    "from IPython.display import HTML\n",
    "HTML(ani.to_jshtml())\n"
   ]
  },
  {
   "cell_type": "markdown",
   "metadata": {},
   "source": [
    "## Task 3b Probability flux analysis\n",
    "\n",
    "Task: Analyze the probability flux for different temperatures. Change the number of bins, number of simulations and the length of the simulation.  Interpret the results."
   ]
  },
  {
   "cell_type": "code",
   "execution_count": null,
   "metadata": {},
   "outputs": [],
   "source": [
    "# Generate Statistics\n",
    "binnum = 50\n",
    "bins = np.linspace(-4, 4, binnum + 1)\n",
    "\n",
    "M = 5 # number of simulations\n",
    "N = int(1e6) # timestemps down\n",
    "\n",
    "T1 = 1.0 \n",
    "T2 = 0.5\n",
    "\n",
    "ensemble = []\n",
    "for k in range(M):\n",
    "    ensemble.append(langevin_simulation(N, T1, T2))\n",
    "ensemble_flatten = np.array(ensemble).reshape(-1,2)"
   ]
  },
  {
   "cell_type": "code",
   "execution_count": null,
   "metadata": {},
   "outputs": [],
   "source": [
    "def get_flux(data, xbins, ybins):\n",
    "    # initialize fluxes\n",
    "    flux = np.zeros((len(xbins)-1, len(ybins)-1, 2))\n",
    "    fluxt = np.zeros((len(xbins)-1, len(ybins)-1,2))\n",
    "\n",
    "    # digitize positions in phase space (0=<digg<15)\n",
    "    # -1 to convert to array indices as per counts\n",
    "    x1dig = np.digitize(data.T[0], xbins[:-1])-1\n",
    "    x2dig = np.digitize(data.T[1], ybins[:-1])-1\n",
    "    digg = np.vstack((x1dig,x2dig)).T\n",
    "    digg_diff = np.diff(digg,axis=0)\n",
    "\n",
    "    # This is just a fancy loop over all the time steps\n",
    "    for (i,j),(d1,d2) in zip(digg[:-1], digg_diff):\n",
    "\n",
    "        # up\n",
    "        if d1==1 and d2==0:\n",
    "            flux[ i  , j, 0]+=1;\n",
    "            flux[ i+1, j, 0]+=1;\n",
    "\n",
    "        # down\n",
    "        elif d1==-1 and d2==0:\n",
    "            flux[ i  , j, 0]-=1;\n",
    "            flux[ i-1, j, 0]-=1;\n",
    "\n",
    "        # right\n",
    "        elif d1==0 and d2==1:\n",
    "            flux[ i, j, 1]  +=1;\n",
    "            flux[ i, j+1, 1]+=1;\n",
    "\n",
    "        # left\n",
    "        elif d1==0 and d2==-1:\n",
    "            flux[ i, j, 1]  -=1;\n",
    "            flux[ i, j-1, 1]-=1;\n",
    "    return flux"
   ]
  },
  {
   "cell_type": "code",
   "execution_count": null,
   "metadata": {},
   "outputs": [],
   "source": [
    "\n",
    "hist, binsx, binsy = np.histogram2d(ensemble_flatten.T[0], ensemble_flatten.T[1], bins=bins)\n",
    "\n",
    "fluxes = []\n",
    "for data in ensemble:\n",
    "    fluxes.append(get_flux(data, binsx, binsy))\n",
    "fluxes = np.array(fluxes)\n",
    "flux = fluxes.mean(axis=0)"
   ]
  },
  {
   "cell_type": "code",
   "execution_count": null,
   "metadata": {},
   "outputs": [],
   "source": [
    "\n",
    "xc = (binsx[1:]+binsx[:-1])/2.0\n",
    "X,Y = np.meshgrid(xc,xc)\n",
    "flux_norm = flux /2./N"
   ]
  },
  {
   "cell_type": "code",
   "execution_count": null,
   "metadata": {},
   "outputs": [],
   "source": [
    "ax = plt.subplot(111)\n",
    "\n",
    "ax.quiver( X, Y, \n",
    "          flux_norm[:,:,1], flux_norm[:,:,0], \n",
    "          scale=1./10000., scale_units=\"xy\", \n",
    "          headaxislength=5, color=\"white\")\n",
    "\n",
    "\n",
    "im = ax.imshow(hist/N, extent=(binsx[0], binsx[-1],binsy[0],binsy[-1]),\n",
    "                cmap=mpl.cm.jet, \n",
    "                origin='lower')\n",
    "plt.colorbar(im, label=\"$p(x_1,x_2)$\")\n",
    "plt.xlabel(\"$x_1$\")\n",
    "plt.ylabel(\"$x_2$\")\n",
    "ax.set_xlim(-2,2)\n",
    "ax.set_ylim(-2,2)"
   ]
  }
 ],
 "metadata": {
  "kernelspec": {
   "display_name": "Python 3",
   "language": "python",
   "name": "python3"
  },
  "language_info": {
   "codemirror_mode": {
    "name": "ipython",
    "version": 3
   },
   "file_extension": ".py",
   "mimetype": "text/x-python",
   "name": "python",
   "nbconvert_exporter": "python",
   "pygments_lexer": "ipython3",
   "version": "3.6.5"
  }
 },
 "nbformat": 4,
 "nbformat_minor": 2
}
