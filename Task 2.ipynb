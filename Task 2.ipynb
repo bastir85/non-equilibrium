{
 "cells": [
  {
   "cell_type": "markdown",
   "metadata": {},
   "source": [
    "# Modelling Non-equilibrium, Brownian Particles Using Python"
   ]
  },
  {
   "cell_type": "code",
   "execution_count": null,
   "metadata": {},
   "outputs": [],
   "source": [
    "import numpy as np\n",
    "import matplotlib.pylab as plt\n",
    "plt.style.use('seaborn-notebook')"
   ]
  },
  {
   "cell_type": "code",
   "execution_count": null,
   "metadata": {},
   "outputs": [],
   "source": []
  },
  {
   "cell_type": "markdown",
   "metadata": {},
   "source": [
    "## Task 2: Mean Squared Displacement of Biased Random Walks (BRW)\n",
    "\n",
    "### Base truth\n",
    "As a base truth, compute the MSD of an ensemble of 1D unbiased random walkers (i.e., Task 2)  \n"
   ]
  },
  {
   "cell_type": "markdown",
   "metadata": {},
   "source": [
    "Check the last notebook"
   ]
  },
  {
   "cell_type": "markdown",
   "metadata": {},
   "source": [
    "### Trajectory of Biased Random Walker\n",
    "\n",
    "Generate a array of +1 and -1 for with probability $p$ and $q$. Remember that $p + q = 1$. Compute the cumulative sum to find the trajectory of the BRW"
   ]
  },
  {
   "cell_type": "code",
   "execution_count": null,
   "metadata": {},
   "outputs": [],
   "source": [
    "n_steps = 10000"
   ]
  },
  {
   "cell_type": "code",
   "execution_count": null,
   "metadata": {},
   "outputs": [],
   "source": [
    "p = 0.48\n",
    "q = 1.0 - p\n",
    "steps = np.random.choice([1, -1], n_steps, p=[p, q])"
   ]
  },
  {
   "cell_type": "code",
   "execution_count": null,
   "metadata": {},
   "outputs": [],
   "source": [
    "traj_single = np.cumsum(steps)\n"
   ]
  },
  {
   "cell_type": "code",
   "execution_count": null,
   "metadata": {},
   "outputs": [],
   "source": [
    "plt.plot(traj_single)\n",
    "plt.xlabel(\"t\")\n",
    "plt.ylabel(\"steps\")"
   ]
  },
  {
   "cell_type": "markdown",
   "metadata": {},
   "source": [
    "### Drift and Mean Squared Displacement of an Ensemble of BRW"
   ]
  },
  {
   "cell_type": "markdown",
   "metadata": {},
   "source": [
    "Generate several walkers. Find the end points and calculate the average $\\left<x\\right>$ and MSD $\\left<x^2\\right>$ of the particles. With this, calculate the drift $u$ and diffusion constant $D$ of the system. Compare with the theoretical prediction.   \n",
    "Hint: $\\left<x\\right> = ut$ and $\\left<x^2\\right> = u^2t^2 + 2Dt$  \n",
    "Hint: The theoretical values are: $u = t(p-q)\\frac{l^2}{\\tau}$ and $D = 2pq \\frac{l^2}{\\tau}$"
   ]
  },
  {
   "cell_type": "code",
   "execution_count": null,
   "metadata": {},
   "outputs": [],
   "source": [
    "n_steps = 10000\n",
    "n_walkers = 10000"
   ]
  },
  {
   "cell_type": "code",
   "execution_count": null,
   "metadata": {},
   "outputs": [],
   "source": [
    "p = 0.4\n",
    "q = 1 - p\n",
    "steps_ensemble = np.random.choice([1,-1], (n_walkers, n_steps), p=[p, q])"
   ]
  },
  {
   "cell_type": "code",
   "execution_count": null,
   "metadata": {},
   "outputs": [],
   "source": [
    "final_ensemble = np.sum(steps_ensemble, axis=1)"
   ]
  },
  {
   "cell_type": "code",
   "execution_count": null,
   "metadata": {},
   "outputs": [],
   "source": [
    "_ = plt.hist(final_ensemble, 50)"
   ]
  },
  {
   "cell_type": "code",
   "execution_count": null,
   "metadata": {},
   "outputs": [],
   "source": [
    "x = np.average(final_ensemble)\n",
    "x_squared = np.average(final_ensemble**2)"
   ]
  },
  {
   "cell_type": "code",
   "execution_count": null,
   "metadata": {},
   "outputs": [],
   "source": [
    "u = x/n_steps\n",
    "D = (x_squared - (u*n_steps)**2)/(2*n_steps)\n",
    "print(\"MEASUREMENT: Drift u = {} and diffusion constant D = {}\".format(u, D))\n",
    "print(\"\")\n",
    "print(\"THEORY: Drift u = {} and diffusion constant D = {}\".format(p-q, 2*p*q))\n"
   ]
  },
  {
   "cell_type": "code",
   "execution_count": null,
   "metadata": {},
   "outputs": [],
   "source": []
  }
 ],
 "metadata": {
  "kernelspec": {
   "display_name": "Python 3",
   "language": "python",
   "name": "python3"
  },
  "language_info": {
   "codemirror_mode": {
    "name": "ipython",
    "version": 3
   },
   "file_extension": ".py",
   "mimetype": "text/x-python",
   "name": "python",
   "nbconvert_exporter": "python",
   "pygments_lexer": "ipython3",
   "version": "3.6.5"
  }
 },
 "nbformat": 4,
 "nbformat_minor": 2
}
